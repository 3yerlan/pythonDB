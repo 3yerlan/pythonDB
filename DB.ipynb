{
 "cells": [
  {
   "cell_type": "code",
   "execution_count": 1,
   "metadata": {
    "scrolled": true
   },
   "outputs": [
    {
     "name": "stdout",
     "output_type": "stream",
     "text": [
      "Module users is imported successfully\n",
      " Module organizations is imported successfully\n"
     ]
    }
   ],
   "source": [
    "import pandas as pd\n",
    "from education import *"
   ]
  },
  {
   "cell_type": "code",
   "execution_count": 2,
   "metadata": {},
   "outputs": [
    {
     "name": "stdout",
     "output_type": "stream",
     "text": [
      "teacher Gracie Graves added\n",
      "teacher Emmy Bellanchof added\n"
     ]
    }
   ],
   "source": [
    "school1=organizations.School(name=\"Serling\", address=\"Ottawa, Canada\", phone=\"555\",email=\"serlingschool@mail.ca\")\n",
    "\n",
    "school1.add_teacher(name=\"Gracie\", familyname=\"Graves\", age=38, gender=\"female\",\n",
    "                    nationality=\"Canadian\", classroom=\"402\", subject=\"Mathematics\")\n",
    "school1.add_teacher(name=\"Emmy\", familyname=\"Bellanchof\", age=44, gender=\"female\",\n",
    "                    nationality=\"Canadian\", classroom=\"302\", subject=\"Literature\")"
   ]
  },
  {
   "cell_type": "code",
   "execution_count": 3,
   "metadata": {},
   "outputs": [
    {
     "data": {
      "text/html": [
       "<div>\n",
       "<style scoped>\n",
       "    .dataframe tbody tr th:only-of-type {\n",
       "        vertical-align: middle;\n",
       "    }\n",
       "\n",
       "    .dataframe tbody tr th {\n",
       "        vertical-align: top;\n",
       "    }\n",
       "\n",
       "    .dataframe thead th {\n",
       "        text-align: right;\n",
       "    }\n",
       "</style>\n",
       "<table border=\"1\" class=\"dataframe\">\n",
       "  <thead>\n",
       "    <tr style=\"text-align: right;\">\n",
       "      <th></th>\n",
       "      <th>name</th>\n",
       "      <th>familyname</th>\n",
       "      <th>age</th>\n",
       "      <th>gender</th>\n",
       "      <th>nationality</th>\n",
       "    </tr>\n",
       "  </thead>\n",
       "  <tbody>\n",
       "    <tr>\n",
       "      <th>0</th>\n",
       "      <td>Jessie</td>\n",
       "      <td>McCoy</td>\n",
       "      <td>10</td>\n",
       "      <td>male</td>\n",
       "      <td>Canadian</td>\n",
       "    </tr>\n",
       "    <tr>\n",
       "      <th>1</th>\n",
       "      <td>Nancy</td>\n",
       "      <td>Francis</td>\n",
       "      <td>11</td>\n",
       "      <td>female</td>\n",
       "      <td>Canadian</td>\n",
       "    </tr>\n",
       "    <tr>\n",
       "      <th>2</th>\n",
       "      <td>Vinnie</td>\n",
       "      <td>Nasta</td>\n",
       "      <td>11</td>\n",
       "      <td>male</td>\n",
       "      <td>Italian</td>\n",
       "    </tr>\n",
       "    <tr>\n",
       "      <th>3</th>\n",
       "      <td>Polly</td>\n",
       "      <td>McShane</td>\n",
       "      <td>11</td>\n",
       "      <td>female</td>\n",
       "      <td>Lithuanian</td>\n",
       "    </tr>\n",
       "    <tr>\n",
       "      <th>4</th>\n",
       "      <td>Arthur Kenneth</td>\n",
       "      <td>Vanderwall</td>\n",
       "      <td>11</td>\n",
       "      <td>male</td>\n",
       "      <td>Dutch</td>\n",
       "    </tr>\n",
       "    <tr>\n",
       "      <th>5</th>\n",
       "      <td>Freddy</td>\n",
       "      <td>Fay</td>\n",
       "      <td>10</td>\n",
       "      <td>male</td>\n",
       "      <td>Canadian</td>\n",
       "    </tr>\n",
       "    <tr>\n",
       "      <th>6</th>\n",
       "      <td>Penny</td>\n",
       "      <td>Grant</td>\n",
       "      <td>11</td>\n",
       "      <td>female</td>\n",
       "      <td>English</td>\n",
       "    </tr>\n",
       "    <tr>\n",
       "      <th>7</th>\n",
       "      <td>Mary Ellen</td>\n",
       "      <td>Devereaux</td>\n",
       "      <td>10</td>\n",
       "      <td>female</td>\n",
       "      <td>American</td>\n",
       "    </tr>\n",
       "    <tr>\n",
       "      <th>8</th>\n",
       "      <td>Joey</td>\n",
       "      <td>Tuna</td>\n",
       "      <td>11</td>\n",
       "      <td>male</td>\n",
       "      <td>Canadian</td>\n",
       "    </tr>\n",
       "    <tr>\n",
       "      <th>9</th>\n",
       "      <td>Tillie</td>\n",
       "      <td>Ferillo</td>\n",
       "      <td>11</td>\n",
       "      <td>female</td>\n",
       "      <td>Canadian</td>\n",
       "    </tr>\n",
       "  </tbody>\n",
       "</table>\n",
       "</div>"
      ],
      "text/plain": [
       "             name  familyname  age  gender nationality\n",
       "0          Jessie       McCoy   10    male    Canadian\n",
       "1           Nancy     Francis   11  female    Canadian\n",
       "2          Vinnie       Nasta   11    male     Italian\n",
       "3           Polly     McShane   11  female  Lithuanian\n",
       "4  Arthur Kenneth  Vanderwall   11    male       Dutch\n",
       "5          Freddy         Fay   10    male    Canadian\n",
       "6           Penny       Grant   11  female     English\n",
       "7      Mary Ellen   Devereaux   10  female    American\n",
       "8            Joey        Tuna   11    male    Canadian\n",
       "9          Tillie     Ferillo   11  female    Canadian"
      ]
     },
     "execution_count": 3,
     "metadata": {},
     "output_type": "execute_result"
    }
   ],
   "source": [
    "kids = pd.read_excel('./kids.xlsx')\n",
    "kids"
   ]
  },
  {
   "cell_type": "code",
   "execution_count": 4,
   "metadata": {},
   "outputs": [
    {
     "name": "stdout",
     "output_type": "stream",
     "text": [
      "student Jessie McCoy added\n",
      "student Nancy Francis added\n",
      "student Vinnie Nasta added\n",
      "student Polly McShane added\n",
      "student Arthur Kenneth Vanderwall added\n",
      "student Freddy Fay added\n",
      "student Penny Grant added\n",
      "student Mary Ellen Devereaux added\n",
      "student Joey Tuna added\n",
      "student Tillie Ferillo added\n"
     ]
    }
   ],
   "source": [
    "for i in range(len(kids.index)):\n",
    "    k=kids.loc[i]\n",
    "    sj=[]\n",
    "    cr='0'\n",
    "    if k['age']==10:\n",
    "        sj.extend([\"Literature\"])\n",
    "        cr='302'\n",
    "    elif k['age']==11:\n",
    "        sj.extend([\"Mathematics\",\"Literature\"])\n",
    "        cr='402'\n",
    "    school1.add_student(name=k['name'], familyname=k['familyname'], age=k['age'], gender=k['gender'],\n",
    "                        nationality=k['nationality'], classroom=cr, subject=sj)"
   ]
  },
  {
   "cell_type": "code",
   "execution_count": 5,
   "metadata": {},
   "outputs": [
    {
     "data": {
      "text/plain": [
       "{'name': 'Serling',\n",
       " 'address': 'Ottawa, Canada',\n",
       " 'phone': '555',\n",
       " 'email': 'serlingschool@mail.ca',\n",
       " 'num_stud': 10,\n",
       " 'num_teachers': 2}"
      ]
     },
     "execution_count": 5,
     "metadata": {},
     "output_type": "execute_result"
    }
   ],
   "source": [
    "school1.get_info()"
   ]
  },
  {
   "cell_type": "code",
   "execution_count": 6,
   "metadata": {},
   "outputs": [
    {
     "name": "stdout",
     "output_type": "stream",
     "text": [
      "Done\n"
     ]
    }
   ],
   "source": [
    "school1.get_report()"
   ]
  },
  {
   "cell_type": "code",
   "execution_count": null,
   "metadata": {},
   "outputs": [],
   "source": []
  },
  {
   "cell_type": "code",
   "execution_count": null,
   "metadata": {},
   "outputs": [],
   "source": []
  },
  {
   "cell_type": "code",
   "execution_count": 7,
   "metadata": {},
   "outputs": [
    {
     "data": {
      "text/plain": [
       "{'name': 'Carleton',\n",
       " 'address': 'Ottawa, Canada',\n",
       " 'phone': '554',\n",
       " 'email': 'Carletonschool@mail.ca',\n",
       " 'num_stud': 0,\n",
       " 'num_teachers': 0}"
      ]
     },
     "execution_count": 7,
     "metadata": {},
     "output_type": "execute_result"
    }
   ],
   "source": [
    "school2=organizations.School()\n",
    "school2.set_name(\"Carleton\")\n",
    "school2.set_address(\"Ottawa, Canada\")\n",
    "school2.set_phone(\"554\")\n",
    "school2.set_email(\"Carletonschool@mail.ca\")\n",
    "school2.get_info()"
   ]
  },
  {
   "cell_type": "code",
   "execution_count": 8,
   "metadata": {},
   "outputs": [
    {
     "data": {
      "text/plain": [
       "{'name': 'Stiven',\n",
       " 'familyname': 'Besser',\n",
       " 'age': '55',\n",
       " 'gender': 'male',\n",
       " 'nationality': 'Canadian',\n",
       " 'classroom': '502',\n",
       " 'subject': 'Chemistry'}"
      ]
     },
     "execution_count": 8,
     "metadata": {},
     "output_type": "execute_result"
    }
   ],
   "source": [
    "t2=organizations.Teacher()\n",
    "t2.set_name(\"Stiven\")\n",
    "t2.set_family(\"Besser\")\n",
    "t2.set_age(\"55\")\n",
    "t2.set_gender(\"male\")\n",
    "t2.set_nationality(\"Canadian\")\n",
    "t2.set_classroom(\"502\")\n",
    "t2.add_subject(\"Chemistry\")\n",
    "t2.get_info()"
   ]
  },
  {
   "cell_type": "code",
   "execution_count": 9,
   "metadata": {},
   "outputs": [
    {
     "data": {
      "text/plain": [
       "{'name': 'Sanjay',\n",
       " 'familyname': 'Bakshi',\n",
       " 'age': '12',\n",
       " 'gender': 'male',\n",
       " 'nationality': 'Indian',\n",
       " 'classroom': '502',\n",
       " 'subject': ['Chemistry']}"
      ]
     },
     "execution_count": 9,
     "metadata": {},
     "output_type": "execute_result"
    }
   ],
   "source": [
    "s2=organizations.Student()\n",
    "s2.set_name(\"Sanjay\")\n",
    "s2.set_family(\"Bakshi\")\n",
    "s2.set_age(\"12\")\n",
    "s2.set_gender(\"male\")\n",
    "s2.set_nationality(\"Indian\")\n",
    "s2.set_classroom(\"502\")\n",
    "s2.add_subject(\"Chemistry\")\n",
    "s2.add_subject(\"Mathematics\")\n",
    "s2.add_subject(\"Literature\")\n",
    "s2.get_info()"
   ]
  },
  {
   "cell_type": "code",
   "execution_count": 10,
   "metadata": {},
   "outputs": [
    {
     "name": "stdout",
     "output_type": "stream",
     "text": [
      "student Sanjay Bakshi added\n",
      "teacher Stiven Besser added\n"
     ]
    }
   ],
   "source": [
    "school2.add_student(**s2.get_info())\n",
    "school2.add_teacher(**t2.get_info())"
   ]
  },
  {
   "cell_type": "code",
   "execution_count": 11,
   "metadata": {},
   "outputs": [
    {
     "data": {
      "text/plain": [
       "{'name': 'Carleton',\n",
       " 'address': 'Ottawa, Canada',\n",
       " 'phone': '554',\n",
       " 'email': 'Carletonschool@mail.ca',\n",
       " 'num_stud': 1,\n",
       " 'num_teachers': 1}"
      ]
     },
     "execution_count": 11,
     "metadata": {},
     "output_type": "execute_result"
    }
   ],
   "source": [
    "school2.get_info()"
   ]
  },
  {
   "cell_type": "code",
   "execution_count": 12,
   "metadata": {},
   "outputs": [
    {
     "name": "stdout",
     "output_type": "stream",
     "text": [
      "Done\n"
     ]
    }
   ],
   "source": [
    "school2.get_report()"
   ]
  },
  {
   "cell_type": "code",
   "execution_count": null,
   "metadata": {},
   "outputs": [],
   "source": []
  },
  {
   "cell_type": "code",
   "execution_count": null,
   "metadata": {},
   "outputs": [],
   "source": []
  },
  {
   "cell_type": "code",
   "execution_count": null,
   "metadata": {},
   "outputs": [],
   "source": []
  },
  {
   "cell_type": "code",
   "execution_count": null,
   "metadata": {},
   "outputs": [],
   "source": []
  },
  {
   "cell_type": "code",
   "execution_count": null,
   "metadata": {},
   "outputs": [],
   "source": []
  },
  {
   "cell_type": "code",
   "execution_count": 13,
   "metadata": {},
   "outputs": [
    {
     "ename": "SyntaxError",
     "evalue": "invalid syntax (Temp/ipykernel_1488/2655275142.py, line 1)",
     "output_type": "error",
     "traceback": [
      "\u001b[1;36m  File \u001b[1;32m\"C:\\Temp/ipykernel_1488/2655275142.py\"\u001b[1;36m, line \u001b[1;32m1\u001b[0m\n\u001b[1;33m    stop autorun\u001b[0m\n\u001b[1;37m         ^\u001b[0m\n\u001b[1;31mSyntaxError\u001b[0m\u001b[1;31m:\u001b[0m invalid syntax\n"
     ]
    }
   ],
   "source": [
    "stop autorun"
   ]
  },
  {
   "cell_type": "code",
   "execution_count": 14,
   "metadata": {},
   "outputs": [
    {
     "name": "stdout",
     "output_type": "stream",
     "text": [
      "teacher Gracie Graves loaded\n",
      "teacher Emmy Bellanchof loaded\n",
      "student Jessie McCoy loaded\n",
      "student Nancy Francis loaded\n",
      "student Vinnie Nasta loaded\n",
      "student Polly McShane loaded\n",
      "student Arthur Kenneth Vanderwall loaded\n",
      "student Freddy Fay loaded\n",
      "student Penny Grant loaded\n",
      "student Mary Ellen Devereaux loaded\n",
      "student Joey Tuna loaded\n",
      "student Tillie Ferillo loaded\n"
     ]
    },
    {
     "data": {
      "text/plain": [
       "{'name': 'Serling',\n",
       " 'address': None,\n",
       " 'phone': None,\n",
       " 'email': None,\n",
       " 'num_stud': 10,\n",
       " 'num_teachers': 2}"
      ]
     },
     "execution_count": 14,
     "metadata": {},
     "output_type": "execute_result"
    }
   ],
   "source": [
    "nschool = organizations.School(name=\"Serling\")\n",
    "nschool.get_info()"
   ]
  },
  {
   "cell_type": "code",
   "execution_count": 15,
   "metadata": {},
   "outputs": [
    {
     "data": {
      "text/plain": [
       "{'name': 'NewSerling',\n",
       " 'address': 'Ottawa, Canada',\n",
       " 'phone': '556',\n",
       " 'email': 'newserlingschool@mail.ca',\n",
       " 'num_stud': 10,\n",
       " 'num_teachers': 2}"
      ]
     },
     "execution_count": 15,
     "metadata": {},
     "output_type": "execute_result"
    }
   ],
   "source": [
    "#nschool.set_name(\"NewSerling\") \n",
    "nschool.set_address(\"Ottawa, Canada\")\n",
    "nschool.set_phone(\"556\")\n",
    "nschool.set_email(\"serlingschool@mail.ca\")\n",
    "nschool.get_info()"
   ]
  },
  {
   "cell_type": "code",
   "execution_count": null,
   "metadata": {},
   "outputs": [],
   "source": []
  },
  {
   "cell_type": "code",
   "execution_count": 16,
   "metadata": {},
   "outputs": [
    {
     "data": {
      "text/plain": [
       "{'name': 'Jenny',\n",
       " 'familyname': 'Glover',\n",
       " 'age': 12,\n",
       " 'gender': 'female',\n",
       " 'nationality': 'American',\n",
       " 'classroom': None,\n",
       " 'subject': []}"
      ]
     },
     "execution_count": 16,
     "metadata": {},
     "output_type": "execute_result"
    }
   ],
   "source": [
    "h=users.Human(name='Jenny',familyname='Glover',age=12,gender='female',nationality='American')\n",
    "s=users.Student(name=h.name,familyname=h.familyname,age=h.age,gender=h.gender,nationality=h.nationality)\n",
    "s.get_info()"
   ]
  },
  {
   "cell_type": "code",
   "execution_count": 17,
   "metadata": {},
   "outputs": [
    {
     "data": {
      "text/plain": [
       "{'name': 'Penny',\n",
       " 'familyname': 'Clover',\n",
       " 'age': 12,\n",
       " 'gender': 'female',\n",
       " 'nationality': 'American',\n",
       " 'classroom': '502',\n",
       " 'subject': ['Literature', 'Mathematics', 'Chemistry']}"
      ]
     },
     "execution_count": 17,
     "metadata": {},
     "output_type": "execute_result"
    }
   ],
   "source": [
    "s.set_name(\"Penny\")\n",
    "s.set_family(\"Clover\")\n",
    "s.set_classroom(\"502\")\n",
    "s.add_subject(\"Literature\",'Mathematics','Chemistry')\n",
    "s.get_info()"
   ]
  },
  {
   "cell_type": "code",
   "execution_count": 18,
   "metadata": {},
   "outputs": [
    {
     "name": "stdout",
     "output_type": "stream",
     "text": [
      "teacher Stiven Besser added\n",
      "student Sanjay Bakshi added\n",
      "student Penny Clover added\n",
      "student Penny Clover not added\n"
     ]
    }
   ],
   "source": [
    "nschool.add_teacher(**t2.get_info())\n",
    "nschool.add_student(**s2.get_info())\n",
    "nschool.add_student(**s.get_info())\n",
    "nschool.add_student(**s.get_info())"
   ]
  },
  {
   "cell_type": "code",
   "execution_count": 19,
   "metadata": {},
   "outputs": [
    {
     "name": "stdout",
     "output_type": "stream",
     "text": [
      "Done\n"
     ]
    }
   ],
   "source": [
    "nschool.get_report()"
   ]
  },
  {
   "cell_type": "code",
   "execution_count": null,
   "metadata": {},
   "outputs": [],
   "source": []
  },
  {
   "cell_type": "code",
   "execution_count": null,
   "metadata": {},
   "outputs": [],
   "source": []
  }
 ],
 "metadata": {
  "kernelspec": {
   "display_name": "Python 3 (ipykernel)",
   "language": "python",
   "name": "python3"
  },
  "language_info": {
   "codemirror_mode": {
    "name": "ipython",
    "version": 3
   },
   "file_extension": ".py",
   "mimetype": "text/x-python",
   "name": "python",
   "nbconvert_exporter": "python",
   "pygments_lexer": "ipython3",
   "version": "3.9.7"
  }
 },
 "nbformat": 4,
 "nbformat_minor": 2
}
